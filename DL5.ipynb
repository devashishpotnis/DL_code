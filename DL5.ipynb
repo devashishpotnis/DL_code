{
  "nbformat": 4,
  "nbformat_minor": 0,
  "metadata": {
    "colab": {
      "provenance": [],
      "toc_visible": true
    },
    "kernelspec": {
      "name": "python3",
      "display_name": "Python 3"
    },
    "language_info": {
      "name": "python"
    }
  },
  "cells": [
    {
      "cell_type": "code",
      "source": [
        "#NAME: DEVASHISH MAYUR POTNIS\n",
        "#CLASS: BE1-AIML\n",
        "#ROLL NO: 43557\n",
        "#PRACTICAL :5"
      ],
      "metadata": {
        "id": "3pOqtXhPBEf-"
      },
      "execution_count": null,
      "outputs": []
    },
    {
      "cell_type": "code",
      "source": [
        "import re\n",
        "import numpy as np\n",
        "import matplotlib.pyplot as plt"
      ],
      "metadata": {
        "id": "_MkPGIH7GaGT"
      },
      "execution_count": null,
      "outputs": []
    },
    {
      "cell_type": "code",
      "source": [
        "# Data Preparation\n",
        "sentences = \"\"\"We are about to study the idea of a computational process.\n",
        "Computational processes are abstract beings that inhabit computers.\n",
        "As they evolve, processes manipulate other abstract things called data.\n",
        "The evolution of a process is directed by a pattern of rules\n",
        "called a program. People create programs to direct processes. In effect,\n",
        "we conjure the spirits of the computer with our spells.\"\"\"\n",
        "\n"
      ],
      "metadata": {
        "id": "h6osXrcoB-_A"
      },
      "execution_count": null,
      "outputs": []
    },
    {
      "cell_type": "code",
      "source": [
        "# Clean Data\n",
        "# Remove special characters\n",
        "sentences = re.sub(r'[^A-Za-z0-9\\s]+', ' ', sentences)\n",
        "# Remove 1 letter words\n",
        "sentences = re.sub(r'\\b\\w{1}\\b', '', sentences).strip()\n",
        "# Lower all characters\n",
        "sentences = sentences.lower()\n",
        "\n",
        "# Vocabulary\n",
        "words = sentences.split()\n",
        "vocab = set(words)\n",
        "\n",
        "vocab_size = len(vocab)\n",
        "embed_dim = 10\n",
        "context_size = 2\n"
      ],
      "metadata": {
        "id": "aGR4lkm0B9pG"
      },
      "execution_count": null,
      "outputs": []
    },
    {
      "cell_type": "code",
      "source": [
        "#Implementation\n",
        "word_to_ix = {word: i for i, word in enumerate(vocab)}\n",
        "ix_to_word = {i: word for i, word in enumerate(vocab)}\n",
        "\n",
        "# Data bags: data - [(context), target]\n",
        "data = []\n",
        "for i in range(context_size, len(words) - context_size):\n",
        "    context = [words[i - context_size], words[i - context_size + 1],\n",
        "               words[i + 1], words[i + context_size]]\n",
        "    target = words[i]\n",
        "    data.append((context, target))\n",
        "\n",
        "print(data[:5])  # Print the first 5 context-target pairs\n",
        "\n"
      ],
      "metadata": {
        "colab": {
          "base_uri": "https://localhost:8080/"
        },
        "id": "CmkqmOK3CgMz",
        "outputId": "1a978974-c30a-4018-f4d2-4a3cecdf59a1"
      },
      "execution_count": null,
      "outputs": [
        {
          "output_type": "stream",
          "name": "stdout",
          "text": [
            "[(['we', 'are', 'to', 'study'], 'about'), (['are', 'about', 'study', 'the'], 'to'), (['about', 'to', 'the', 'idea'], 'study'), (['to', 'study', 'idea', 'of'], 'the'), (['study', 'the', 'of', 'computational'], 'idea')]\n"
          ]
        }
      ]
    },
    {
      "cell_type": "code",
      "source": [
        "# Embedding\n",
        "embeddings = np.random.random_sample((vocab_size, embed_dim))\n",
        "\n",
        "# Linear model\n",
        "def linear(m, theta):\n",
        "    return m.dot(theta)\n",
        "\n"
      ],
      "metadata": {
        "id": "ItscgVXfCgPK"
      },
      "execution_count": null,
      "outputs": []
    },
    {
      "cell_type": "code",
      "source": [
        "# Log softmax + NLL loss = Cross Entropy\n",
        "def log_softmax(x):\n",
        "    e_x = np.exp(x - np.max(x))\n",
        "    return np.log(e_x / e_x.sum())\n",
        "\n",
        "def NLLLoss(logs, targets):\n",
        "    out = logs[range(len(targets)), targets]\n",
        "    return -out.sum() / len(out)\n",
        "\n",
        "def log_softmax_crossentropy_with_logits(logits, targets):\n",
        "    out = np.zeros_like(logits)\n",
        "    out[np.arange(len(logits)), targets] = 1\n",
        "    softmax = np.exp(logits) / np.exp(logits).sum(axis=-1, keepdims=True)\n",
        "    return (-out + softmax) / logits.shape[0]\n",
        "\n"
      ],
      "metadata": {
        "id": "TQMWAIC6CgR-"
      },
      "execution_count": null,
      "outputs": []
    },
    {
      "cell_type": "code",
      "source": [
        "# Forward function\n",
        "def forward(context_idxs, theta):\n",
        "    m = embeddings[context_idxs].reshape(1, -1)\n",
        "    n = linear(m, theta)\n",
        "    o = log_softmax(n)\n",
        "    return m, n, o\n",
        "\n"
      ],
      "metadata": {
        "id": "W_OYzxRLCgU0"
      },
      "execution_count": null,
      "outputs": []
    },
    {
      "cell_type": "code",
      "source": [
        "# Backward function\n",
        "def backward(preds, theta, target_idxs):\n",
        "    m, n, o = preds\n",
        "    dlog = log_softmax_crossentropy_with_logits(n, target_idxs)\n",
        "    dw = m.T.dot(dlog)\n",
        "    return dw\n",
        "\n",
        "# Optimize function\n",
        "def optimize(theta, grad, lr=0.03):\n",
        "    theta -= grad * lr\n",
        "    return theta\n",
        "\n",
        "# Generate training data\n",
        "theta = np.random.uniform(-1, 1, (2 * context_size * embed_dim, vocab_size))\n",
        "epoch_losses = {}\n",
        "for epoch in range(80):\n",
        "    losses = []\n",
        "    for context, target in data:\n",
        "        context_idxs = np.array([word_to_ix[w] for w in context])\n",
        "        preds = forward(context_idxs, theta)\n",
        "        target_idxs = np.array([word_to_ix[target]])\n",
        "        loss = NLLLoss(preds[-1], target_idxs)\n",
        "        losses.append(loss)\n",
        "        grad = backward(preds, theta, target_idxs)\n",
        "        theta = optimize(theta, grad, lr=0.03)\n",
        "\n",
        "    epoch_losses[epoch] = losses\n"
      ],
      "metadata": {
        "id": "BL0eDipfCgX9"
      },
      "execution_count": null,
      "outputs": []
    },
    {
      "cell_type": "code",
      "source": [
        "\n",
        "# Plot loss/epoch\n",
        "ix = np.arange(0, 80)\n",
        "fig = plt.figure()\n",
        "fig.suptitle('Epoch/Losses', fontsize=20)\n",
        "plt.plot(ix, [epoch_losses[i][0] for i in ix])\n",
        "plt.xlabel('Epochs', fontsize=12)\n",
        "plt.ylabel('Losses', fontsize=12)\n",
        "plt.show()\n",
        "\n"
      ],
      "metadata": {
        "colab": {
          "base_uri": "https://localhost:8080/",
          "height": 501
        },
        "id": "pXcUASNfCgaW",
        "outputId": "6359394b-12e7-4983-ab43-ccba0ff9e926"
      },
      "execution_count": null,
      "outputs": [
        {
          "output_type": "display_data",
          "data": {
            "text/plain": [
              "<Figure size 640x480 with 1 Axes>"
            ],
            "image/png": "[encoded data removed]"
          },
          "metadata": {}
        }
      ]
    },
    {
      "cell_type": "code",
      "source": [
        "# Predict function\n",
        "def predict(words):\n",
        "    context_idxs = np.array([word_to_ix[w] for w in words])\n",
        "    preds = forward(context_idxs, theta)\n",
        "    word = ix_to_word[np.argmax(preds[-1])]\n",
        "    return word"
      ],
      "metadata": {
        "id": "jJ18vrlICgdJ"
      },
      "execution_count": null,
      "outputs": []
    },
    {
      "cell_type": "code",
      "source": [
        "#Test prediction\n",
        "print(predict(['we', 'are', 'to', 'study']))  # Expected output: 'about'\n",
        "\n"
      ],
      "metadata": {
        "colab": {
          "base_uri": "https://localhost:8080/"
        },
        "id": "eTqORcoaCgfr",
        "outputId": "35bc2b48-a043-4c53-9818-e596ab329b28"
      },
      "execution_count": null,
      "outputs": [
        {
          "output_type": "stream",
          "name": "stdout",
          "text": [
            "about\n"
          ]
        }
      ]
    },
    {
      "cell_type": "code",
      "source": [
        "#Test prediction\n",
        "print(predict(['we', 'are', 'to', 'study']))  # Expected output: 'about'\n",
        "\n",
        "# Accuracy function\n",
        "def accuracy():\n",
        "    wrong = 0\n",
        "    for context, target in data:\n",
        "        if predict(context) != target:\n",
        "            wrong += 1\n",
        "    return 1 - (wrong / len(data))\n",
        "\n"
      ],
      "metadata": {
        "colab": {
          "base_uri": "https://localhost:8080/"
        },
        "id": "hfU3k9NkCgiC",
        "outputId": "bb19cf7d-2920-4b63-b943-87884efcf20a"
      },
      "execution_count": null,
      "outputs": [
        {
          "output_type": "stream",
          "name": "stdout",
          "text": [
            "about\n"
          ]
        }
      ]
    },
    {
      "cell_type": "code",
      "source": [
        "# Calculate accuracy\n",
        "print(\"Accuracy:\", accuracy())\n",
        "print(predict(['processes', 'manipulate', 'things', 'study']))  # Example prediction"
      ],
      "metadata": {
        "colab": {
          "base_uri": "https://localhost:8080/"
        },
        "id": "4VsHXiDACgkU",
        "outputId": "9a5bc1e7-9de7-44c2-dd2c-f59cf88e350b"
      },
      "execution_count": null,
      "outputs": [
        {
          "output_type": "stream",
          "name": "stdout",
          "text": [
            "Accuracy: 1.0\n",
            "as\n"
          ]
        }
      ]
    }
  ]
}